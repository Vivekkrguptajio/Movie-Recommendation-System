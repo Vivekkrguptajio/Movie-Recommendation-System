{
  "nbformat": 4,
  "nbformat_minor": 0,
  "metadata": {
    "colab": {
      "provenance": [],
      "authorship_tag": "ABX9TyOYMGDJitNOGp/z0asYwHMa",
      "include_colab_link": true
    },
    "kernelspec": {
      "name": "python3",
      "display_name": "Python 3"
    },
    "language_info": {
      "name": "python"
    }
  },
  "cells": [
    {
      "cell_type": "markdown",
      "metadata": {
        "id": "view-in-github",
        "colab_type": "text"
      },
      "source": [
        "<a href=\"https://colab.research.google.com/github/Vivekkrguptajio/Movie-Recommendation-System/blob/main/MovieRecommendationSystem.ipynb\" target=\"_parent\"><img src=\"https://colab.research.google.com/assets/colab-badge.svg\" alt=\"Open In Colab\"/></a>"
      ]
    },
    {
      "cell_type": "markdown",
      "source": [
        "Movie Recommendation System\n"
      ],
      "metadata": {
        "id": "V4pOw3Bb4ipu"
      }
    },
    {
      "cell_type": "markdown",
      "source": [
        "\n",
        "Objective"
      ],
      "metadata": {
        "id": "nQeM2h3h88UC"
      }
    },
    {
      "cell_type": "markdown",
      "source": [
        "To create a movie recommendation system that suggests movies to users based on their past preferences. We can use collaborative filtering or content-based filtering for this purpose. For simplicity, let's use a popular dataset called the MovieLens dataset, which contains ratings of movies by users."
      ],
      "metadata": {
        "id": "JbXIx-fc80kw"
      }
    },
    {
      "cell_type": "markdown",
      "source": [
        "\n",
        "Data Source"
      ],
      "metadata": {
        "id": "3qDlLyrJ9A4f"
      }
    },
    {
      "cell_type": "markdown",
      "source": [
        "We'll use the MovieLens dataset, which is available in various sizes. For this example, we'll use the \"MovieLens 100K\" dataset, which contains 100,000 ratings by 943 users for 1,682 movies. This dataset can be found https://grouplens.org/datasets/movielens/100k/."
      ],
      "metadata": {
        "id": "6wrsd-Bk9HKm"
      }
    },
    {
      "cell_type": "markdown",
      "source": [
        "Import Library"
      ],
      "metadata": {
        "id": "qV_jSvU849z_"
      }
    },
    {
      "cell_type": "code",
      "execution_count": 1,
      "metadata": {
        "id": "OnN3TCHu4Mrm"
      },
      "outputs": [],
      "source": [
        "import pandas as pd\n",
        "import numpy as np\n",
        "import matplotlib.pyplot as plt\n",
        "import seaborn as sns\n",
        "from sklearn.model_selection import train_test_split\n",
        "from sklearn.metrics import mean_squared_error\n",
        "from sklearn.decomposition import TruncatedSVD\n"
      ]
    },
    {
      "cell_type": "markdown",
      "source": [
        "Import Data"
      ],
      "metadata": {
        "id": "uRfALPuI6VH9"
      }
    },
    {
      "cell_type": "code",
      "source": [
        "!wget http://files.grouplens.org/datasets/movielens/ml-100k.zip\n",
        "!unzip ml-100k.zip\n"
      ],
      "metadata": {
        "colab": {
          "base_uri": "https://localhost:8080/"
        },
        "id": "YVYa_NPc4XxR",
        "outputId": "7c59d91d-8af5-484e-ca09-fc5abc1264bc"
      },
      "execution_count": 2,
      "outputs": [
        {
          "output_type": "stream",
          "name": "stdout",
          "text": [
            "--2024-06-14 18:02:13--  http://files.grouplens.org/datasets/movielens/ml-100k.zip\n",
            "Resolving files.grouplens.org (files.grouplens.org)... 128.101.65.152\n",
            "Connecting to files.grouplens.org (files.grouplens.org)|128.101.65.152|:80... connected.\n",
            "HTTP request sent, awaiting response... 200 OK\n",
            "Length: 4924029 (4.7M) [application/zip]\n",
            "Saving to: ‘ml-100k.zip’\n",
            "\n",
            "ml-100k.zip         100%[===================>]   4.70M  20.0MB/s    in 0.2s    \n",
            "\n",
            "2024-06-14 18:02:13 (20.0 MB/s) - ‘ml-100k.zip’ saved [4924029/4924029]\n",
            "\n",
            "Archive:  ml-100k.zip\n",
            "   creating: ml-100k/\n",
            "  inflating: ml-100k/allbut.pl       \n",
            "  inflating: ml-100k/mku.sh          \n",
            "  inflating: ml-100k/README          \n",
            "  inflating: ml-100k/u.data          \n",
            "  inflating: ml-100k/u.genre         \n",
            "  inflating: ml-100k/u.info          \n",
            "  inflating: ml-100k/u.item          \n",
            "  inflating: ml-100k/u.occupation    \n",
            "  inflating: ml-100k/u.user          \n",
            "  inflating: ml-100k/u1.base         \n",
            "  inflating: ml-100k/u1.test         \n",
            "  inflating: ml-100k/u2.base         \n",
            "  inflating: ml-100k/u2.test         \n",
            "  inflating: ml-100k/u3.base         \n",
            "  inflating: ml-100k/u3.test         \n",
            "  inflating: ml-100k/u4.base         \n",
            "  inflating: ml-100k/u4.test         \n",
            "  inflating: ml-100k/u5.base         \n",
            "  inflating: ml-100k/u5.test         \n",
            "  inflating: ml-100k/ua.base         \n",
            "  inflating: ml-100k/ua.test         \n",
            "  inflating: ml-100k/ub.base         \n",
            "  inflating: ml-100k/ub.test         \n"
          ]
        }
      ]
    },
    {
      "cell_type": "code",
      "source": [
        "ratings_file = 'ml-100k/u.data'\n",
        "movies_file = 'ml-100k/u.item'\n",
        "\n",
        "ratings = pd.read_csv(ratings_file, sep='\\t', names=['user_id', 'movie_id', 'rating', 'timestamp'])\n",
        "movies = pd.read_csv(movies_file, sep='|', encoding='ISO-8859-1', names=['movie_id', 'title'], usecols=[0, 1])\n"
      ],
      "metadata": {
        "id": "vVv_ldvo6iwI"
      },
      "execution_count": 3,
      "outputs": []
    },
    {
      "cell_type": "markdown",
      "source": [
        "Describe Data"
      ],
      "metadata": {
        "id": "AesdNXdf6tI8"
      }
    },
    {
      "cell_type": "code",
      "source": [
        "print(\"Ratings DataFrame:\")\n",
        "print(ratings.head())\n",
        "\n",
        "print(\"\\nMovies DataFrame:\")\n",
        "print(movies.head())\n"
      ],
      "metadata": {
        "colab": {
          "base_uri": "https://localhost:8080/"
        },
        "id": "dUx1iB3S6uzd",
        "outputId": "72ac887e-f8f5-4930-ec8c-eaf130be8604"
      },
      "execution_count": 4,
      "outputs": [
        {
          "output_type": "stream",
          "name": "stdout",
          "text": [
            "Ratings DataFrame:\n",
            "   user_id  movie_id  rating  timestamp\n",
            "0      196       242       3  881250949\n",
            "1      186       302       3  891717742\n",
            "2       22       377       1  878887116\n",
            "3      244        51       2  880606923\n",
            "4      166       346       1  886397596\n",
            "\n",
            "Movies DataFrame:\n",
            "   movie_id              title\n",
            "0         1   Toy Story (1995)\n",
            "1         2   GoldenEye (1995)\n",
            "2         3  Four Rooms (1995)\n",
            "3         4  Get Shorty (1995)\n",
            "4         5     Copycat (1995)\n"
          ]
        }
      ]
    },
    {
      "cell_type": "markdown",
      "source": [
        "Data Visualization"
      ],
      "metadata": {
        "id": "xcq62o6S62m3"
      }
    },
    {
      "cell_type": "code",
      "source": [
        "plt.figure(figsize=(10, 4))\n",
        "\n",
        "# Distribution of ratings\n",
        "sns.countplot(data=ratings, x='rating', palette='viridis')\n",
        "plt.title('Distribution of Ratings')\n",
        "plt.xlabel('Rating')\n",
        "plt.ylabel('Count')\n",
        "plt.show()\n",
        "\n",
        "# Number of ratings per movie\n",
        "ratings_per_movie = ratings.groupby('movie_id').size()\n",
        "plt.figure(figsize=(10, 4))\n",
        "sns.histplot(ratings_per_movie, bins=30, kde=False, color='blue')\n",
        "plt.title('Number of Ratings per Movie')\n",
        "plt.xlabel('Number of Ratings')\n",
        "plt.ylabel('Count')\n",
        "plt.show()\n"
      ],
      "metadata": {
        "colab": {
          "base_uri": "https://localhost:8080/",
          "height": 890
        },
        "id": "rPtV-h7i63_y",
        "outputId": "b7059490-bd27-414c-a874-9783023ad27b"
      },
      "execution_count": 5,
      "outputs": [
        {
          "output_type": "stream",
          "name": "stderr",
          "text": [
            "<ipython-input-5-273acdf98384>:4: FutureWarning: \n",
            "\n",
            "Passing `palette` without assigning `hue` is deprecated and will be removed in v0.14.0. Assign the `x` variable to `hue` and set `legend=False` for the same effect.\n",
            "\n",
            "  sns.countplot(data=ratings, x='rating', palette='viridis')\n"
          ]
        },
        {
          "output_type": "display_data",
          "data": {
            "text/plain": [
              "<Figure size 1000x400 with 1 Axes>"
            ],
            "image/png": "[encoded data removed]"
          },
          "metadata": {}
        },
        {
          "output_type": "display_data",
          "data": {
            "text/plain": [
              "<Figure size 1000x400 with 1 Axes>"
            ],
            "image/png": "[encoded data removed]"
          },
          "metadata": {}
        }
      ]
    },
    {
      "cell_type": "markdown",
      "source": [
        "Data Preprocessing"
      ],
      "metadata": {
        "id": "6mtN76ut7FFz"
      }
    },
    {
      "cell_type": "code",
      "source": [
        "merged_ratings = pd.merge(ratings, movies, on='movie_id')\n",
        "user_item_matrix = merged_ratings.pivot_table(index='user_id', columns='title', values='rating')\n",
        "user_item_matrix.fillna(0, inplace=True)\n"
      ],
      "metadata": {
        "id": "LlMb_cZs7IvR"
      },
      "execution_count": 6,
      "outputs": []
    },
    {
      "cell_type": "markdown",
      "source": [
        "Define Target Variable (y) and Feature Variables (X)"
      ],
      "metadata": {
        "id": "jfrSKuXL7fJN"
      }
    },
    {
      "cell_type": "markdown",
      "source": [
        "In the context of building a movie recommendation system, defining the target variable (y) and the feature variables (X) is crucial to understand how the model will be trained and what it aims to predict. Let’s break this down for a collaborative filtering-based recommendation system:\n",
        "\n",
        "Target Variable (y) and Feature Variables (X)\n",
        "In recommendation systems, especially those based on collaborative filtering, the typical setup is as follows:\n",
        "\n",
        "Feature Variables (X): This represents the known ratings given by users to movies. These ratings are used to learn the underlying patterns in user preferences and movie characteristics.\n",
        "\n",
        "Target Variable (y): The target is the unknown or missing ratings that we want to predict for each user-movie pair. This is what the recommendation system aims to predict to suggest new movies to the user.\n",
        "\n",
        "Given the user-item interaction matrix, we will often treat the observed part of this matrix as our feature set\n",
        "𝑋\n",
        "X and predict the unobserved part as our target\n",
        "𝑦\n",
        "y.\n",
        "\n",
        "In Practice\n",
        "For our recommendation system using the MovieLens dataset, let’s elaborate on how to define\n",
        "𝑋\n",
        "X and\n",
        "𝑦\n",
        "y.\n",
        "\n",
        "Step-by-Step Process\n",
        "Load and Merge Data:\n",
        "\n",
        "Combine user ratings with movie titles to create a complete view of the interactions.\n",
        "Create the User-Item Matrix:\n",
        "\n",
        "Transform the combined dataset into a matrix where rows represent users, columns represent movies, and the cell values represent the ratings. Missing values indicate that the user has not rated the movie.\n",
        "Split the Data:\n",
        "\n",
        "Separate the known ratings into a training set (used to learn the model) and a test set (used to evaluate the model’s predictions)."
      ],
      "metadata": {
        "id": "NDEyASzd7pZ5"
      }
    },
    {
      "cell_type": "markdown",
      "source": [
        "Train Test Split"
      ],
      "metadata": {
        "id": "bkJDScAd8Ehh"
      }
    },
    {
      "cell_type": "code",
      "source": [
        "def train_test_split_ratings(X, test_size=0.2):\n",
        "    X_train = X.copy()\n",
        "    X_test = np.zeros(X.shape)\n",
        "    for user in range(X.shape[0]):\n",
        "        non_zero_indices = X[user, :].nonzero()[0]\n",
        "        test_indices = np.random.choice(non_zero_indices, size=int(test_size * len(non_zero_indices)), replace=False)\n",
        "        X_train[user, test_indices] = 0\n",
        "        X_test[user, test_indices] = X[user, test_indices]\n",
        "    return X_train, X_test\n",
        "\n",
        "X = user_item_matrix.values\n",
        "X_train, X_test = train_test_split_ratings(X, test_size=0.2)\n"
      ],
      "metadata": {
        "id": "VVQJzJG08GOl"
      },
      "execution_count": 7,
      "outputs": []
    },
    {
      "cell_type": "markdown",
      "source": [
        "Modeling"
      ],
      "metadata": {
        "id": "k9XyKnjd8MsA"
      }
    },
    {
      "cell_type": "code",
      "source": [
        "n_components = 20\n",
        "svd = TruncatedSVD(n_components=n_components)\n",
        "U = svd.fit_transform(X_train)\n",
        "Sigma = np.diag(svd.singular_values_)\n",
        "Vt = svd.components_\n",
        "\n",
        "# Reconstructing the matrix\n",
        "X_pred = np.dot(np.dot(U, Sigma), Vt)\n"
      ],
      "metadata": {
        "id": "be6R2fh18O76"
      },
      "execution_count": 8,
      "outputs": []
    },
    {
      "cell_type": "markdown",
      "source": [
        "Model Evaluation"
      ],
      "metadata": {
        "id": "IOTxMurn8S3w"
      }
    },
    {
      "cell_type": "code",
      "source": [
        "def rmse(y_true, y_pred):\n",
        "    return np.sqrt(mean_squared_error(y_true, y_pred))\n",
        "\n",
        "test_nonzero_indices = X_test.nonzero()\n",
        "predicted = X_pred[test_nonzero_indices]\n",
        "actual = X_test[test_nonzero_indices]\n",
        "\n",
        "error = rmse(actual, predicted)\n",
        "print(f'RMSE on test set: {error}')\n"
      ],
      "metadata": {
        "colab": {
          "base_uri": "https://localhost:8080/"
        },
        "id": "ON3gH_nJ8Tp4",
        "outputId": "c8b3a998-efde-4a79-d7ed-3c637819ed21"
      },
      "execution_count": 9,
      "outputs": [
        {
          "output_type": "stream",
          "name": "stdout",
          "text": [
            "RMSE on test set: 640.4075985667058\n"
          ]
        }
      ]
    },
    {
      "cell_type": "markdown",
      "source": [
        "Prediction"
      ],
      "metadata": {
        "id": "7G-vThmN8Z2l"
      }
    },
    {
      "cell_type": "code",
      "source": [
        "def recommend_movies(user_id, X_pred, movies, user_item_matrix, n_recommendations=5):\n",
        "    user_ratings = X_pred[user_id - 1]\n",
        "    known_ratings = user_item_matrix.iloc[user_id - 1].values\n",
        "\n",
        "    user_ratings[known_ratings != 0] = -1\n",
        "\n",
        "    top_indices = user_ratings.argsort()[-n_recommendations:][::-1]\n",
        "    recommendations = movies.iloc[top_indices]\n",
        "\n",
        "    return recommendations\n",
        "\n",
        "user_id = 1\n",
        "recommendations = recommend_movies(user_id, X_pred, movies, user_item_matrix)\n",
        "print(f\"Recommendations for User {user_id}:\")\n",
        "print(recommendations)\n"
      ],
      "metadata": {
        "colab": {
          "base_uri": "https://localhost:8080/"
        },
        "id": "sk8_Dy018cgh",
        "outputId": "73f28d6c-d8f0-469d-ef8e-7af332815858"
      },
      "execution_count": 10,
      "outputs": [
        {
          "output_type": "stream",
          "name": "stdout",
          "text": [
            "Recommendations for User 1:\n",
            "      movie_id                   title\n",
            "1281      1282  Grass Harp, The (1995)\n",
            "446        447           Carrie (1976)\n",
            "1102      1103            Trust (1990)\n",
            "273        274          Sabrina (1995)\n",
            "1386      1387             Fall (1997)\n"
          ]
        }
      ]
    },
    {
      "cell_type": "markdown",
      "source": [
        "Explanation"
      ],
      "metadata": {
        "id": "v3HHUTk-8mYt"
      }
    },
    {
      "cell_type": "markdown",
      "source": [
        "Data Source: MovieLens dataset, a widely used dataset in recommendation systems research.\n",
        "Data Preprocessing: Converting the raw data into a user-item matrix suitable for collaborative filtering.\n",
        "Modeling: Using SVD for matrix factorization to uncover latent features in the user-item matrix.\n",
        "Model Evaluation: Evaluating the accuracy of our recommendations using RMSE.\n",
        "Prediction: Recommending top-rated movies for a specific user by excluding already rated movies.\n",
        "This pipeline provides a complete movie recommendation system using collaborative filtering. Adjustments can be made for more advanced techniques like using deep learning models for better recommendations."
      ],
      "metadata": {
        "id": "7BQVgxMc8nkL"
      }
    }
  ]
}